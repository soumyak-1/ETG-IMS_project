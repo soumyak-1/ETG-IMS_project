{
  "nbformat": 4,
  "nbformat_minor": 0,
  "metadata": {
    "colab": {
      "name": "Adding_new_Products.ipynb",
      "provenance": [],
      "collapsed_sections": []
    },
    "kernelspec": {
      "name": "python3",
      "display_name": "Python 3"
    },
    "language_info": {
      "name": "python"
    }
  },
  "cells": [
    {
      "cell_type": "code",
      "metadata": {
        "id": "MbZ26hpnpcBg"
      },
      "source": [
        "stock_records = {\"1001\": {\"name\": \"WHEAT\", \"qty\": 150, \"price\": 30, \"isAvailable\": 1, \"Expiry\": \"5/10/2021\"}, \"1002\": {\"name\": \"FLOUR\", \"qty\": 100, \"price\": 50, \"isAvailable\": 1, \"Expiry\": \"10/10/2021\"}, \"1003\": {\"name\": \"CORN MEAL\", \"qty\": 200, \"price\": 50, \"isAvailable\": 1, \"Expiry\": \"5/11/2021\"}, \"1004\": {\"name\": \"OATS\", \"qty\": 200, \"price\": 40, \"isAvailable\": 1, \"Expiry\": \"10/11/2021\"}, \"1005\": {\"name\": \"RICE\", \"qty\":2000, \"price\": 60, \"isAvailable\": 1, \"Expiry\": \"15/10/2021\"}, \"1006\": {\"name\": \"PASTA\", \"qty\": 50, \"price\": 80, \"isAvailable\": 1, \"Expiry\": \"5/10/2022\"}, \"1007\": {\"name\": \"SHORTENING\", \"qty\": 50, \"price\": 90, \"isAvailable\": 1, \"Expiry\": \"5/1/2021\"}, \"1008\": {\"name\": \"VEGETABLE OIL\", \"qty\": 50, \"price\": 190, \"isAvailable\": 1, \"Expiry\": \"20/10/2021\"}, \"1009\": {\"name\": \"MAYONNAISE\", \"qty\": 500, \"price\": 200, \"isAvailable\": 1, \"Expiry\": \"5/12/2021\"}, \"1010\": {\"name\": \"SAL\", \"qty\": 300, \"price\": 100, \"isAvailable\": 1, \"Expiry\": \"5/10/2022\"}, \"1011\": {\"name\": \"DRESSING\", \"qty\": 100, \"price\": 500, \"isAvailable\": 1, \"Expiry\": \"15/10/2022\"}, \"1012\": {\"name\": \"LITTLE HEARTS\", \"qty\": 100, \"price\": 5, \"isAvailable\": 1, \"Expiry\": \"15/4/2022\"}, \"1013\": {\"name\": \"BANANA CHIPS\", \"qty\": 80, \"price\": 5, \"isAvailable\": 1, \"Expiry\": \"15/9/2022\"}, \"1014\": {\"name\": \"LAYS\", \"qty\": 100, \"price\": 5, \"isAvailable\": 1, \"Expiry\": \"1/10/2022\"}, \"1015\": {\"name\": \"KURKURE\", \"qty\": 10, \"price\": 500, \"isAvailable\": 1, \"Expiry\": \"15/1/2022\"}, \"1016\": {\"name\": \"PEANUT BUTTER\", \"qty\": 50, \"price\": 150, \"isAvailable\": 1, \"Expiry\": \"15/7/2021\"}, \"1017\": {\"name\": \"BEANS\", \"qty\": 100, \"price\": 30, \"isAvailable\": 1, \"Expiry\": \"15/10/2023\"}, \"1018\": {\"name\": \"LIGHTER\", \"qty\": 10, \"price\": 50, \"isAvailable\": 1, \"Expiry\": \"1/5/2022\"}, \"1019\": {\"name\": \"DRY FRUITS\", \"qty\": 30, \"price\": 200, \"isAvailable\": 1, \"Expiry\": \"15/1/2024\"}, \"1020\": {\"name\": \"VINEGAR\", \"qty\": 25, \"price\": 100, \"isAvailable\": 1, \"Expiry\": \"1/1/2025\"}, \"1021\": {\"name\": \"SALT\", \"qty\": 30, \"price\": 20, \"isAvailable\": 1, \"Expiry\": \"1/1/2025\"}, \"1022\": {\"name\": \"YEAST\", \"qty\": 30, \"price\": 50, \"isAvailable\": 1, \"Expiry\": \"1/1/2025\"}, \"1023\": {\"name\": \"BAKING SODA\", \"qty\": 200, \"price\": 10, \"isAvailable\": 1, \"Expiry\": \"1/1/2025\"}, \"1024\": {\"name\": \"BAKING POWDER\", \"qty\": 500, \"price\": 100, \"isAvailable\": 1, \"Expiry\": \"1/10/2024\"}, \"1025\": {\"name\": \"MILK\", \"qty\": 10, \"price\": 300, \"isAvailable\": 1, \"Expiry\": \"1/10/2025\"}, \"1026\": {\"name\": \"DRY MILK\", \"qty\": 20, \"price\": 200, \"isAvailable\": 1, \"Expiry\": \"19/1/2022\"}, \"1027\": {\"name\": \"CELL\", \"qty\": 50, \"price\": 10, \"isAvailable\": 1, \"Expiry\": \"1/1/2021\"}, \"1028\": {\"name\": \"EGGS\", \"qty\": 20, \"price\": 160, \"isAvailable\": 1, \"Expiry\": \"1/10/2023\"}, \"1029\": {\"name\": \"JAMS\", \"qty\": 30, \"price\": 150, \"isAvailable\": 1, \"Expiry\": \"1/1/2025\"}, \"1030\": {\"name\": \"wallet\", \"qty\": 30, \"price\": 100, \"isAvailable\": 1, \"Expiry\": \"1/1/2025\"}, \"1031\": {\"name\": \"belt\", \"qty\": 20, \"price\": 80, \"isAvailable\": 1, \"Expiry\": \"1/10/2023\"}, \"1032\": {\"name\": \"goggle\", \"qty\": 50, \"price\": 300, \"isAvailable\": 1, \"Expiry\": \"1/1/2023\"}, \"1033\": {\"name\": \"marker\", \"qty\": 50, \"price\": 10, \"isAvailable\": 1, \"Expiry\": \"1/10/2023\"}, \"1034\": {\"name\": \"sketchpen\", \"qty\": 40, \"price\": 5, \"isAvailable\": 1, \"Expiry\": \"10/10/2023\"}, \"1035\": {\"name\": \"oil pestal\", \"qty\": 50, \"price\": 50, \"isAvailable\": 1, \"Expiry\": \"1/12/2023\"}, \"1036\": {\"name\": \"water color\", \"qty\": 50, \"price\": 60, \"isAvailable\": 1, \"Expiry\": \"1/1/2023\"}, \"1037\": {\"name\": \"drawing book\", \"qty\": 20, \"price\": 60, \"isAvailable\": 1, \"Expiry\": \"1/4/2024\"}, \"1038\": {\"name\": \"mobile cover\", \"qty\": 100, \"price\": 100, \"isAvailable\": 1, \"Expiry\": \"1/10/2023\"}, \"1039\": {\"name\": \"shev\", \"qty\": 30, \"price\": 120, \"isAvailable\": 1, \"Expiry\": \"10/8/2023\"}, \"1040\": {\"name\": \"masala\", \"qty\": 50, \"price\": 30, \"isAvailable\": 1, \"Expiry\": \"1/10/2024\"}, \"1041\": {\"name\": \"soup\", \"qty\": 50, \"price\": 5, \"isAvailable\": 1, \"Expiry\": \"1/7/2024\"}, \"1042\": {\"name\": \"broom\", \"qty\": 20, \"price\": 70, \"isAvailable\": 1, \"Expiry\": \"1/10/2021\"}, \"1043\": {\"name\": \"chair\", \"qty\": 25, \"price\": 800, \"isAvailable\": 1, \"Expiry\": \"1/3/2024\"}, \"1044\": {\"name\": \"lamp\", \"qty\": 10, \"price\": 300, \"isAvailable\": 1, \"Expiry\": \"1/11/2024\"}, \"1045\": {\"name\": \"rular\", \"qty\": 100, \"price\": 5, \"isAvailable\": 1, \"Expiry\": \"1/10/2027\"}, \"1046\": {\"name\": \"sharpner\", \"qty\": 50, \"price\": 5, \"isAvailable\": 1, \"Expiry\": \"1/6/2024\"}, \"1047\": {\"name\": \"eraser\", \"qty\": 200, \"price\": 3, \"isAvailable\": 1, \"Expiry\": \"1/10/2025\"}, \"1048\": {\"name\": \"cradt paper\", \"qty\": 50, \"price\": 2, \"isAvailable\": 1, \"Expiry\": \"10/6/2024\"}, \"1049\": {\"name\": \"needle\", \"qty\": 30, \"price\": 5, \"isAvailable\": 1, \"Expiry\": \"1/12/2023\"}, \"1050\": {\"name\": \"matchbox\", \"qty\": 200, \"price\": 100, \"isAvailable\": 1, \"Expiry\": \"1/10/2024\"}}"
      ],
      "execution_count": 11,
      "outputs": []
    },
    {
      "cell_type": "code",
      "metadata": {
        "colab": {
          "base_uri": "https://localhost:8080/"
        },
        "id": "vHYd-klKqjXO",
        "outputId": "c7d3fb31-d365-45e8-b037-71dd68bec77c"
      },
      "source": [
        "type(stock_records)"
      ],
      "execution_count": 2,
      "outputs": [
        {
          "output_type": "execute_result",
          "data": {
            "text/plain": [
              "dict"
            ]
          },
          "metadata": {},
          "execution_count": 2
        }
      ]
    },
    {
      "cell_type": "code",
      "metadata": {
        "id": "54jtpVujqjs9"
      },
      "source": [
        "import json"
      ],
      "execution_count": 18,
      "outputs": []
    },
    {
      "cell_type": "code",
      "metadata": {
        "id": "bxm-Fy4Hqju3"
      },
      "source": [
        "data = json.dumps(stock_records)\n",
        "\n",
        "fp = open(\"records.json\", \"w\")\n",
        "fp.write(data)\n",
        "fp.close()"
      ],
      "execution_count": 19,
      "outputs": []
    },
    {
      "cell_type": "markdown",
      "metadata": {
        "id": "DgO0FYwNqxrn"
      },
      "source": [
        "# Inserting new items:"
      ]
    },
    {
      "cell_type": "code",
      "metadata": {
        "colab": {
          "base_uri": "https://localhost:8080/"
        },
        "id": "AC05ozCdqopr",
        "outputId": "f2aaeb88-5d42-4f2f-d9e7-95f4a105f076"
      },
      "source": [
        "pdt_id = input(\"Enter the product id:\")\n",
        "name = input(\"Enter the product name:\")\n",
        "qty = int(input(\"Enter the quantity:\"))\n",
        "price = int(input(\"Enter the price of the product:\"))\n",
        "isAvailable = int(input(\"is the product available:[1/0]:\"))\n",
        "expiry = input(\"Enter expiry date:\")\n"
      ],
      "execution_count": 8,
      "outputs": [
        {
          "name": "stdout",
          "output_type": "stream",
          "text": [
            "Enter the product id:1050\n",
            "Enter the product name:matchbox\n",
            "Enter the quantity:200\n",
            "Enter the price of the product:100\n",
            "is the product available:[1/0]:1\n",
            "Enter expiry date:1/10/2024\n"
          ]
        }
      ]
    },
    {
      "cell_type": "markdown",
      "metadata": {
        "id": "20FZjgCcrCj-"
      },
      "source": [
        "# Displaying the previous records:"
      ]
    },
    {
      "cell_type": "code",
      "metadata": {
        "id": "4NIei-WKqosK"
      },
      "source": [
        "fp = open(\"records.json\", \"r\")\n",
        "data = fp.read()\n",
        "fp.close()\n",
        "\n",
        "prev_records = json.loads(data)\n"
      ],
      "execution_count": 9,
      "outputs": []
    },
    {
      "cell_type": "code",
      "metadata": {
        "colab": {
          "base_uri": "https://localhost:8080/"
        },
        "id": "GSB5RqLAqoum",
        "outputId": "5d405c21-6ac5-4e2a-e764-f87da9338b31"
      },
      "source": [
        "prev_records[pdt_id]"
      ],
      "execution_count": 13,
      "outputs": [
        {
          "output_type": "execute_result",
          "data": {
            "text/plain": [
              "{'Expiry': '1/10/2024',\n",
              " 'isAvailable': 1,\n",
              " 'name': 'matchbox',\n",
              " 'price': 1,\n",
              " 'qty': 200}"
            ]
          },
          "metadata": {},
          "execution_count": 13
        }
      ]
    },
    {
      "cell_type": "code",
      "metadata": {
        "colab": {
          "base_uri": "https://localhost:8080/"
        },
        "id": "JyDG-EPFqoyG",
        "outputId": "993e44ae-3cdc-442a-f3ad-d95c0728d66c"
      },
      "source": [
        "type(prev_records)"
      ],
      "execution_count": 14,
      "outputs": [
        {
          "output_type": "execute_result",
          "data": {
            "text/plain": [
              "dict"
            ]
          },
          "metadata": {},
          "execution_count": 14
        }
      ]
    },
    {
      "cell_type": "markdown",
      "metadata": {
        "id": "bwT-xdTIrUCJ"
      },
      "source": [
        "# Inserting new records in the record.json file or updating if the product id is already existing"
      ]
    },
    {
      "cell_type": "code",
      "metadata": {
        "id": "8nB_oX-WrV-l"
      },
      "source": [
        "if (pdt_id in prev_records.keys()):\n",
        "    prev_records[pdt_id]['qty'] += qty\n",
        "else:\n",
        "    prev_records[pdt_id] = { 'name': name,\n",
        "                             'qty': qty,\n",
        "                             'price': price,\n",
        "                             'isAvailable': isAvailable,\n",
        "                             'Expiry': expiry}"
      ],
      "execution_count": 15,
      "outputs": []
    },
    {
      "cell_type": "code",
      "metadata": {
        "colab": {
          "base_uri": "https://localhost:8080/"
        },
        "id": "a9IfCv88rWPl",
        "outputId": "78bb0a16-308e-404f-9c36-2d12c2137353"
      },
      "source": [
        "prev_records[pdt_id]"
      ],
      "execution_count": 16,
      "outputs": [
        {
          "output_type": "execute_result",
          "data": {
            "text/plain": [
              "{'Expiry': '1/10/2024',\n",
              " 'isAvailable': 1,\n",
              " 'name': 'matchbox',\n",
              " 'price': 1,\n",
              " 'qty': 400}"
            ]
          },
          "metadata": {},
          "execution_count": 16
        }
      ]
    },
    {
      "cell_type": "code",
      "metadata": {
        "colab": {
          "base_uri": "https://localhost:8080/"
        },
        "id": "bpSHF7ngrnhC",
        "outputId": "d5e2b9d3-8839-40d3-d036-63c3823a0a0e"
      },
      "source": [
        "def add_new_inventory():\n",
        "    \n",
        "    # taking input from the user\n",
        "    pdt_id = input(\"Enter the product id:\")\n",
        "    name = input(\"Enter the product name:\")\n",
        "    qty = int(input(\"Enter the quantity:\"))\n",
        "    price = int(input(\"Enter the price of the product:\"))\n",
        "    isAvailable = int(input(\"is the product available:[1/0]:\"))\n",
        "    expiry = input(\"Enter expiry date:\")\n",
        "    fp = open(\"records.json\", \"r\")\n",
        "    data = fp.read()\n",
        "    fp.close()\n",
        "    prev_records = json.loads(data)\n",
        "    if (pdt_id in prev_records.keys()):\n",
        "        prev_records[pdt_id]['qty'] += qty\n",
        "    else:\n",
        "        prev_records[pdt_id] = { 'name': name,\n",
        "                                 'qty': qty,\n",
        "                                 'price': price,\n",
        "                                 'isAvailable': isAvailable,\n",
        "                                 'Expiry': expiry}\n",
        "    data = json.dumps(prev_records)\n",
        "    fp = open(\"records.json\", 'w')\n",
        "    fp.write(data)\n",
        "    fp.close()\n",
        "a = 1\n",
        "while(a==1):\n",
        "    add_new_inventory()\n",
        "    a = int(input(\"do you want to add another record? [yes: 1/ No :0]\"))\n"
      ],
      "execution_count": 17,
      "outputs": [
        {
          "name": "stdout",
          "output_type": "stream",
          "text": [
            "Enter the product id:1051\n",
            "Enter the product name:ORANGE JUICE\n",
            "Enter the quantity:50\n",
            "Enter the price of the product:10\n",
            "is the product available:[1/0]:1\n",
            "Enter expiry date:1/10/2023\n",
            "do you want to add another record? [yes: 1/ No :0]0\n"
          ]
        }
      ]
    }
  ]
}