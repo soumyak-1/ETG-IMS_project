{
  "nbformat": 4,
  "nbformat_minor": 0,
  "metadata": {
    "colab": {
      "name": "Purchasing_Products.ipynb",
      "provenance": [],
      "collapsed_sections": []
    },
    "kernelspec": {
      "name": "python3",
      "display_name": "Python 3"
    },
    "language_info": {
      "name": "python"
    }
  },
  "cells": [
    {
      "cell_type": "markdown",
      "metadata": {
        "id": "PXAlbHo4A7vJ"
      },
      "source": [
        "# Read Inventory"
      ]
    },
    {
      "cell_type": "code",
      "metadata": {
        "id": "at2fi5qFrEeY"
      },
      "source": [
        "import json\n",
        "\n",
        "fp = open(\"records.json\", \"r\")\n",
        "data = fp.read()\n",
        "fp. close()\n",
        "\n",
        "records = json.loads(data)\n"
      ],
      "execution_count": 1,
      "outputs": []
    },
    {
      "cell_type": "code",
      "metadata": {
        "colab": {
          "base_uri": "https://localhost:8080/"
        },
        "id": "pLxm8lgnrI7L",
        "outputId": "25b633c4-7957-4aa7-d24a-13c078348efa"
      },
      "source": [
        "type(records)"
      ],
      "execution_count": 2,
      "outputs": [
        {
          "output_type": "execute_result",
          "data": {
            "text/plain": [
              "dict"
            ]
          },
          "metadata": {},
          "execution_count": 2
        }
      ]
    },
    {
      "cell_type": "markdown",
      "metadata": {
        "id": "0FNWDD7PBPUF"
      },
      "source": [
        "# Purchase"
      ]
    },
    {
      "cell_type": "code",
      "metadata": {
        "colab": {
          "base_uri": "https://localhost:8080/"
        },
        "id": "GZD25tk8rI9b",
        "outputId": "0b53ba69-b8b7-4c7f-f9f1-c2ed97f15fa5"
      },
      "source": [
        "records['1029']"
      ],
      "execution_count": 3,
      "outputs": [
        {
          "output_type": "execute_result",
          "data": {
            "text/plain": [
              "{'Expiry': '1/1/2025',\n",
              " 'isAvailable': 1,\n",
              " 'name': 'JAMS',\n",
              " 'price': 150,\n",
              " 'qty': 30}"
            ]
          },
          "metadata": {},
          "execution_count": 3
        }
      ]
    },
    {
      "cell_type": "code",
      "metadata": {
        "colab": {
          "base_uri": "https://localhost:8080/"
        },
        "id": "tnJbaCWxnPLd",
        "outputId": "7a619aa3-9733-42cf-a214-362aa63f56ac"
      },
      "source": [
        "pdt_id = input(\"Enter the product id:\")\n",
        "qty = int(input(\"Enter the quantity of product bought:\"))\n",
        "cst_name = input(\"Enter custmer name:\")\n",
        "cst_mob = input(\"Enter customer mobile number:\")\n",
        "if pdt_id in records.keys() and records[pdt_id]['isAvailable']==1:\n",
        "    if (qty <= records[pdt_id]['qty']):\n",
        "        # Generate the bill:\n",
        "        print(\"*************************************\\n Bill \\n*************************************\")\n",
        "        print(\"Customer name:\",cst_name)\n",
        "        print(\"Customer mobile no:\", cst_mob)\n",
        "        print(\"____________________________________\")\n",
        "        print(\"Product id:\",pdt_id)\n",
        "        print(\"Product name:\",records[pdt_id]['name'])\n",
        "        print(\"quantity:\",qty)\n",
        "        print(\"price:\",records[pdt_id]['price'])\n",
        "        print(\"____________________________________\")\n",
        "        print(\"Total Amount:\", qty * records[pdt_id]['price'],\"\\n\")\n",
        "        \n",
        "        # update the qty in the records\n",
        "        records[pdt_id]['qty'] -= qty\n",
        "        \n",
        "        if (records[pdt_id]['qty'] == 0):\n",
        "            records[pdt_id]['isAvailable']=0\n",
        "    else:\n",
        "        print(\"The given product is not available in the given quantity\")\n",
        "else:\n",
        "    print(\"Wrong product id or product currently not available\")\n"
      ],
      "execution_count": 5,
      "outputs": [
        {
          "output_type": "stream",
          "name": "stdout",
          "text": [
            "Enter the product id:1010\n",
            "Enter the quantity of product bought:10\n",
            "Enter custmer name:AMRIT YADAV\n",
            "Enter customer mobile number:1478523609\n",
            "*************************************\n",
            " Bill \n",
            "*************************************\n",
            "Customer name: AMRIT YADAV\n",
            "Customer mobile no: 1478523609\n",
            "____________________________________\n",
            "Product id: 1010\n",
            "Product name: SAL\n",
            "quantity: 10\n",
            "price: 100\n",
            "____________________________________\n",
            "Total Amount: 1000 \n",
            "\n"
          ]
        }
      ]
    },
    {
      "cell_type": "markdown",
      "metadata": {
        "id": "_TNQXwTSBVu2"
      },
      "source": [
        "# Update Inventory after purchase"
      ]
    },
    {
      "cell_type": "code",
      "metadata": {
        "id": "fjZDc90IrJAN"
      },
      "source": [
        "data = json.dumps(records)\n",
        "\n",
        "fp = open(\"records.json\", \"w\")\n",
        "fp.write(data)\n",
        "fp.close()"
      ],
      "execution_count": 6,
      "outputs": []
    },
    {
      "cell_type": "code",
      "metadata": {
        "id": "xIr5AVM1ne3P"
      },
      "source": [
        "initial_sales_count = {'n_sales' : 0}\n",
        "data = json.dumps(initial_sales_count)"
      ],
      "execution_count": 7,
      "outputs": []
    },
    {
      "cell_type": "code",
      "metadata": {
        "id": "dPxuzMAunfGv"
      },
      "source": [
        "fp = open(\"sales.json\", 'w')\n",
        "fp.write(data)\n",
        "fp.close()"
      ],
      "execution_count": 8,
      "outputs": []
    },
    {
      "cell_type": "markdown",
      "metadata": {
        "id": "O1keLrE2nyHs"
      },
      "source": [
        "# RECORDING TIME"
      ]
    },
    {
      "cell_type": "code",
      "metadata": {
        "colab": {
          "base_uri": "https://localhost:8080/"
        },
        "id": "zZoyRNRynyqE",
        "outputId": "bbea0279-59bc-4c64-a73e-8ec3a1d48f2e"
      },
      "source": [
        "import time \n",
        "dt = time.ctime()\n",
        "print(dt)\n",
        "type(dt)"
      ],
      "execution_count": 9,
      "outputs": [
        {
          "output_type": "stream",
          "name": "stdout",
          "text": [
            "Mon Sep  6 13:56:34 2021\n"
          ]
        },
        {
          "output_type": "execute_result",
          "data": {
            "text/plain": [
              "str"
            ]
          },
          "metadata": {},
          "execution_count": 9
        }
      ]
    },
    {
      "cell_type": "markdown",
      "metadata": {
        "id": "SNFO7U-QBc9K"
      },
      "source": [
        "# Sales JSON"
      ]
    },
    {
      "cell_type": "code",
      "metadata": {
        "id": "7SP35Es0rJC2"
      },
      "source": [
        "import json\n",
        "import time\n",
        "\n",
        "def purchase():\n",
        "    fp = open(\"records.json\", \"r\")\n",
        "    data = fp.read()\n",
        "    fp. close()\n",
        "\n",
        "    records = json.loads(data)\n",
        "    pdt_id = input(\"Enter the product id:\")\n",
        "    qty = int(input(\"Enter the quantity of product bought:\"))\n",
        "    cst_name = input(\"Enter custmer name:\")\n",
        "    cst_mob = input(\"Enter customer mobile number:\")\n",
        "    if pdt_id in records.keys() and records[pdt_id]['isAvailable']==1:\n",
        "        if (qty <= records[pdt_id]['qty']):\n",
        "            print(\"*************************************\\n Bill \\n*************************************\")\n",
        "            print(\"Customer name:\",cst_name)\n",
        "            print(\"Customer mobile no:\", cst_mob)\n",
        "            print(\"____________________________________\")\n",
        "            print(\"Product id:\",pdt_id)\n",
        "            print(\"Product name:\",records[pdt_id]['name'])\n",
        "            print(\"quantity:\",qty)\n",
        "            print(\"price:\",records[pdt_id]['price'])\n",
        "            print(\"____________________________________\")\n",
        "            print(\"Total Amount:\", qty * records[pdt_id]['price'],\"\\n\")\n",
        "\n",
        "            # update the qty in the records\n",
        "            records[pdt_id]['qty'] -= qty\n",
        "\n",
        "            if (records[pdt_id]['qty'] == 0):\n",
        "                records[pdt_id]['isAvailable']=0\n",
        "        else:\n",
        "            print(\"The given product is not available in the given quantity\")\n",
        "    else:\n",
        "        print(\"Wrong product id or product currently not available\")\n",
        "    data = json.dumps(records)\n",
        "\n",
        "    fp = open(\"records.json\", \"w\")\n",
        "    fp.write(data)\n",
        "    fp.close()\n",
        "    \n",
        "    # updating the sales\n",
        "    sales_fp = open(\"sales.json\", \"r\")\n",
        "    data = sales_fp.read()\n",
        "    sales_fp.close()\n",
        "\n",
        "    sales = json.loads(data)\n",
        "\n",
        "    sales['n_sales'] +=1\n",
        "    i = sales['n_sales']\n",
        "\n",
        "    sale = {'date and time':time.ctime(),\n",
        "            'product id':pdt_id,\n",
        "            'name':records[pdt_id]['name'],\n",
        "            'amount':qty * records[pdt_id]['price'],\n",
        "            'customer name':cst_name,\n",
        "            'customer mobile':cst_mob}\n",
        "    sales[i] = sale\n",
        "     \n",
        "    \n",
        "    # updating in the sales.json file\n",
        "    data = json.dumps(sales)\n",
        "\n",
        "    sales_fp = open(\"sales.json\", \"w\")\n",
        "    sales_fp.write(data)\n",
        "    sales_fp.close()\n"
      ],
      "execution_count": 10,
      "outputs": []
    },
    {
      "cell_type": "code",
      "metadata": {
        "colab": {
          "base_uri": "https://localhost:8080/"
        },
        "id": "P716h6z2pSYj",
        "outputId": "5b97be76-3739-4fb8-c22a-4102a3e894f0"
      },
      "source": [
        "purchase()"
      ],
      "execution_count": 11,
      "outputs": [
        {
          "output_type": "stream",
          "name": "stdout",
          "text": [
            "Enter the product id:1025\n",
            "Enter the quantity of product bought:10\n",
            "Enter custmer name:SIDDARTH MISHRA\n",
            "Enter customer mobile number:1234560789\n",
            "*************************************\n",
            " Bill \n",
            "*************************************\n",
            "Customer name: SIDDARTH MISHRA\n",
            "Customer mobile no: 1234560789\n",
            "____________________________________\n",
            "Product id: 1025\n",
            "Product name: MILK\n",
            "quantity: 10\n",
            "price: 300\n",
            "____________________________________\n",
            "Total Amount: 3000 \n",
            "\n"
          ]
        }
      ]
    }
  ]
}